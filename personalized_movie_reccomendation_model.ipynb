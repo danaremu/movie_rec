{
 "cells": [
  {
   "cell_type": "markdown",
   "id": "de30e2c9",
   "metadata": {},
   "source": [
    "IMPORT DEPENDENCIES"
   ]
  },
  {
   "cell_type": "code",
   "execution_count": 1,
   "id": "804938b3",
   "metadata": {},
   "outputs": [],
   "source": [
    "#\n",
    "import numpy as np\n",
    "import pandas as pd\n",
    "\n",
    "#\n",
    "import difflib\n",
    "from sklearn.feature_extraction.text import TfidfVectorizer\n",
    "from sklearn.metrics.pairwise import cosine_similarity\n",
    "\n",
    "#\n",
    "import matplotlib.pyplot as plt\n",
    "%matplotlib inline"
   ]
  },
  {
   "cell_type": "markdown",
   "id": "db510a46",
   "metadata": {},
   "source": [
    "DATA COLLECTION AND PRE-PROCESSING"
   ]
  },
  {
   "cell_type": "code",
   "execution_count": 2,
   "id": "659659ec",
   "metadata": {},
   "outputs": [],
   "source": [
    "#loading data from CSV file to a pandas dataframe\n",
    "\n",
    "def chooseDataSet(choice: int) -> int:\n",
    "    return pd.read_csv('./tmdb_movies.csv') if choice >= 1 else pd.read_csv('./movies.csv')\n",
    "\n",
    "# change arg value below to 1 for a larger dataset\n",
    "movies_data = chooseDataSet(0)"
   ]
  },
  {
   "cell_type": "code",
   "execution_count": 4,
   "id": "84029412",
   "metadata": {},
   "outputs": [
    {
     "data": {
      "text/html": [
       "<div>\n",
       "<style scoped>\n",
       "    .dataframe tbody tr th:only-of-type {\n",
       "        vertical-align: middle;\n",
       "    }\n",
       "\n",
       "    .dataframe tbody tr th {\n",
       "        vertical-align: top;\n",
       "    }\n",
       "\n",
       "    .dataframe thead th {\n",
       "        text-align: right;\n",
       "    }\n",
       "</style>\n",
       "<table border=\"1\" class=\"dataframe\">\n",
       "  <thead>\n",
       "    <tr style=\"text-align: right;\">\n",
       "      <th></th>\n",
       "      <th>index</th>\n",
       "      <th>budget</th>\n",
       "      <th>genres</th>\n",
       "      <th>homepage</th>\n",
       "      <th>id</th>\n",
       "      <th>keywords</th>\n",
       "      <th>original_language</th>\n",
       "      <th>original_title</th>\n",
       "      <th>overview</th>\n",
       "      <th>popularity</th>\n",
       "      <th>...</th>\n",
       "      <th>runtime</th>\n",
       "      <th>spoken_languages</th>\n",
       "      <th>status</th>\n",
       "      <th>tagline</th>\n",
       "      <th>title</th>\n",
       "      <th>vote_average</th>\n",
       "      <th>vote_count</th>\n",
       "      <th>cast</th>\n",
       "      <th>crew</th>\n",
       "      <th>director</th>\n",
       "    </tr>\n",
       "  </thead>\n",
       "  <tbody>\n",
       "    <tr>\n",
       "      <th>0</th>\n",
       "      <td>0</td>\n",
       "      <td>237000000</td>\n",
       "      <td>Action Adventure Fantasy Science Fiction</td>\n",
       "      <td>http://www.avatarmovie.com/</td>\n",
       "      <td>19995</td>\n",
       "      <td>culture clash future space war space colony so...</td>\n",
       "      <td>en</td>\n",
       "      <td>Avatar</td>\n",
       "      <td>In the 22nd century, a paraplegic Marine is di...</td>\n",
       "      <td>150.437577</td>\n",
       "      <td>...</td>\n",
       "      <td>162.0</td>\n",
       "      <td>[{\"iso_639_1\": \"en\", \"name\": \"English\"}, {\"iso...</td>\n",
       "      <td>Released</td>\n",
       "      <td>Enter the World of Pandora.</td>\n",
       "      <td>Avatar</td>\n",
       "      <td>7.2</td>\n",
       "      <td>11800</td>\n",
       "      <td>Sam Worthington Zoe Saldana Sigourney Weaver S...</td>\n",
       "      <td>[{'name': 'Stephen E. Rivkin', 'gender': 0, 'd...</td>\n",
       "      <td>James Cameron</td>\n",
       "    </tr>\n",
       "    <tr>\n",
       "      <th>1</th>\n",
       "      <td>1</td>\n",
       "      <td>300000000</td>\n",
       "      <td>Adventure Fantasy Action</td>\n",
       "      <td>http://disney.go.com/disneypictures/pirates/</td>\n",
       "      <td>285</td>\n",
       "      <td>ocean drug abuse exotic island east india trad...</td>\n",
       "      <td>en</td>\n",
       "      <td>Pirates of the Caribbean: At World's End</td>\n",
       "      <td>Captain Barbossa, long believed to be dead, ha...</td>\n",
       "      <td>139.082615</td>\n",
       "      <td>...</td>\n",
       "      <td>169.0</td>\n",
       "      <td>[{\"iso_639_1\": \"en\", \"name\": \"English\"}]</td>\n",
       "      <td>Released</td>\n",
       "      <td>At the end of the world, the adventure begins.</td>\n",
       "      <td>Pirates of the Caribbean: At World's End</td>\n",
       "      <td>6.9</td>\n",
       "      <td>4500</td>\n",
       "      <td>Johnny Depp Orlando Bloom Keira Knightley Stel...</td>\n",
       "      <td>[{'name': 'Dariusz Wolski', 'gender': 2, 'depa...</td>\n",
       "      <td>Gore Verbinski</td>\n",
       "    </tr>\n",
       "    <tr>\n",
       "      <th>2</th>\n",
       "      <td>2</td>\n",
       "      <td>245000000</td>\n",
       "      <td>Action Adventure Crime</td>\n",
       "      <td>http://www.sonypictures.com/movies/spectre/</td>\n",
       "      <td>206647</td>\n",
       "      <td>spy based on novel secret agent sequel mi6</td>\n",
       "      <td>en</td>\n",
       "      <td>Spectre</td>\n",
       "      <td>A cryptic message from Bond’s past sends him o...</td>\n",
       "      <td>107.376788</td>\n",
       "      <td>...</td>\n",
       "      <td>148.0</td>\n",
       "      <td>[{\"iso_639_1\": \"fr\", \"name\": \"Fran\\u00e7ais\"},...</td>\n",
       "      <td>Released</td>\n",
       "      <td>A Plan No One Escapes</td>\n",
       "      <td>Spectre</td>\n",
       "      <td>6.3</td>\n",
       "      <td>4466</td>\n",
       "      <td>Daniel Craig Christoph Waltz L\\u00e9a Seydoux ...</td>\n",
       "      <td>[{'name': 'Thomas Newman', 'gender': 2, 'depar...</td>\n",
       "      <td>Sam Mendes</td>\n",
       "    </tr>\n",
       "  </tbody>\n",
       "</table>\n",
       "<p>3 rows × 24 columns</p>\n",
       "</div>"
      ],
      "text/plain": [
       "   index     budget                                    genres  \\\n",
       "0      0  237000000  Action Adventure Fantasy Science Fiction   \n",
       "1      1  300000000                  Adventure Fantasy Action   \n",
       "2      2  245000000                    Action Adventure Crime   \n",
       "\n",
       "                                       homepage      id  \\\n",
       "0                   http://www.avatarmovie.com/   19995   \n",
       "1  http://disney.go.com/disneypictures/pirates/     285   \n",
       "2   http://www.sonypictures.com/movies/spectre/  206647   \n",
       "\n",
       "                                            keywords original_language  \\\n",
       "0  culture clash future space war space colony so...                en   \n",
       "1  ocean drug abuse exotic island east india trad...                en   \n",
       "2         spy based on novel secret agent sequel mi6                en   \n",
       "\n",
       "                             original_title  \\\n",
       "0                                    Avatar   \n",
       "1  Pirates of the Caribbean: At World's End   \n",
       "2                                   Spectre   \n",
       "\n",
       "                                            overview  popularity  ... runtime  \\\n",
       "0  In the 22nd century, a paraplegic Marine is di...  150.437577  ...   162.0   \n",
       "1  Captain Barbossa, long believed to be dead, ha...  139.082615  ...   169.0   \n",
       "2  A cryptic message from Bond’s past sends him o...  107.376788  ...   148.0   \n",
       "\n",
       "                                    spoken_languages    status  \\\n",
       "0  [{\"iso_639_1\": \"en\", \"name\": \"English\"}, {\"iso...  Released   \n",
       "1           [{\"iso_639_1\": \"en\", \"name\": \"English\"}]  Released   \n",
       "2  [{\"iso_639_1\": \"fr\", \"name\": \"Fran\\u00e7ais\"},...  Released   \n",
       "\n",
       "                                          tagline  \\\n",
       "0                     Enter the World of Pandora.   \n",
       "1  At the end of the world, the adventure begins.   \n",
       "2                           A Plan No One Escapes   \n",
       "\n",
       "                                      title vote_average vote_count  \\\n",
       "0                                    Avatar          7.2      11800   \n",
       "1  Pirates of the Caribbean: At World's End          6.9       4500   \n",
       "2                                   Spectre          6.3       4466   \n",
       "\n",
       "                                                cast  \\\n",
       "0  Sam Worthington Zoe Saldana Sigourney Weaver S...   \n",
       "1  Johnny Depp Orlando Bloom Keira Knightley Stel...   \n",
       "2  Daniel Craig Christoph Waltz L\\u00e9a Seydoux ...   \n",
       "\n",
       "                                                crew        director  \n",
       "0  [{'name': 'Stephen E. Rivkin', 'gender': 0, 'd...   James Cameron  \n",
       "1  [{'name': 'Dariusz Wolski', 'gender': 2, 'depa...  Gore Verbinski  \n",
       "2  [{'name': 'Thomas Newman', 'gender': 2, 'depar...      Sam Mendes  \n",
       "\n",
       "[3 rows x 24 columns]"
      ]
     },
     "execution_count": 4,
     "metadata": {},
     "output_type": "execute_result"
    }
   ],
   "source": [
    "#print first 5 rows of dataframe\n",
    "\n",
    "movies_data.head(3)"
   ]
  },
  {
   "cell_type": "code",
   "execution_count": 5,
   "id": "cf10aed1",
   "metadata": {},
   "outputs": [
    {
     "data": {
      "text/plain": [
       "(4803, 24)"
      ]
     },
     "execution_count": 5,
     "metadata": {},
     "output_type": "execute_result"
    }
   ],
   "source": [
    "# get nubers of rows and columns in the dataframe\n",
    "\n",
    "movies_data.shape"
   ]
  },
  {
   "cell_type": "code",
   "execution_count": 6,
   "id": "5a099c4e",
   "metadata": {},
   "outputs": [
    {
     "data": {
      "text/plain": [
       "Index(['index', 'budget', 'genres', 'homepage', 'id', 'keywords',\n",
       "       'original_language', 'original_title', 'overview', 'popularity',\n",
       "       'production_companies', 'production_countries', 'release_date',\n",
       "       'revenue', 'runtime', 'spoken_languages', 'status', 'tagline', 'title',\n",
       "       'vote_average', 'vote_count', 'cast', 'crew', 'director'],\n",
       "      dtype='object')"
      ]
     },
     "execution_count": 6,
     "metadata": {},
     "output_type": "execute_result"
    }
   ],
   "source": [
    "# get list of columns in the dataframe\n",
    "\n",
    "movies_data.columns"
   ]
  },
  {
   "cell_type": "code",
   "execution_count": 11,
   "id": "0aebaa47",
   "metadata": {},
   "outputs": [],
   "source": [
    "# select the relevant features for the recommendation\n",
    "selected_features = ['genres', 'keywords', 'original_title', 'original_language', 'cast', 'director', 'tagline', 'overview']"
   ]
  },
  {
   "cell_type": "code",
   "execution_count": 12,
   "id": "3b682920",
   "metadata": {},
   "outputs": [],
   "source": [
    "# replacing the null values with the null string in relevant columns from {selected_features} list\n",
    "\n",
    "for feature in selected_features:\n",
    "    if feature in movies_data.columns:\n",
    "        movies_data[feature] = movies_data[feature].fillna('')"
   ]
  },
  {
   "cell_type": "code",
   "execution_count": 13,
   "id": "ca4ab605",
   "metadata": {},
   "outputs": [
    {
     "name": "stdout",
     "output_type": "stream",
     "text": [
      "0       Action Adventure Fantasy Science Fiction cultu...\n",
      "1       Adventure Fantasy Action ocean drug abuse exot...\n",
      "2       Action Adventure Crime spy based on novel secr...\n",
      "3       Action Crime Drama Thriller dc comics crime fi...\n",
      "4       Action Adventure Science Fiction based on nove...\n",
      "                              ...                        \n",
      "4798    Action Crime Thriller united states\\u2013mexic...\n",
      "4799    Comedy Romance  Newlyweds en Edward Burns Kerr...\n",
      "4800    Comedy Drama Romance TV Movie date love at fir...\n",
      "4801      Shanghai Calling en Daniel Henney Eliza Coup...\n",
      "4802    Documentary obsession camcorder crush dream gi...\n",
      "Name: genres, Length: 4803, dtype: object\n"
     ]
    }
   ],
   "source": [
    "# combining all {selected_features} relevant columns into a combined feature\n",
    "\n",
    "combined_features = ''\n",
    "for feature in selected_features:\n",
    "    if feature in movies_data.columns:\n",
    "        combined_features += movies_data[feature]\n",
    "        \n",
    "        if not feature == selected_features[-1]:\n",
    "            combined_features += ' '\n",
    "\n",
    "print(combined_features)"
   ]
  },
  {
   "cell_type": "code",
   "execution_count": 17,
   "id": "0082b630",
   "metadata": {},
   "outputs": [
    {
     "name": "stdout",
     "output_type": "stream",
     "text": [
      "  (0, 5421)\t0.16241224926400233\n",
      "  (0, 1042)\t0.1203780886520913\n",
      "  (0, 1279)\t0.05168931899774521\n",
      "  (0, 22185)\t0.16382161054066796\n",
      "  (0, 1319)\t0.03126935537667198\n",
      "  (0, 20250)\t0.15861133905105337\n",
      "  (0, 10686)\t0.1362542130197356\n",
      "  (0, 3076)\t0.09803533575416556\n",
      "  (0, 28371)\t0.1427233574532523\n",
      "  (0, 2778)\t0.09638118166726353\n",
      "  (0, 4262)\t0.06089328596415378\n",
      "  (0, 18563)\t0.10733832097641263\n",
      "  (0, 29483)\t0.15241465163984802\n",
      "  (0, 20138)\t0.04790816872412218\n",
      "  (0, 18800)\t0.1427233574532523\n",
      "  (0, 28255)\t0.030392536461058335\n",
      "  (0, 8066)\t0.17690536950301278\n",
      "  (0, 14458)\t0.040930343316435844\n",
      "  (0, 17535)\t0.14037328390039988\n",
      "  (0, 20723)\t0.18950085291303687\n",
      "  (0, 4922)\t0.1227281622049437\n",
      "  (0, 241)\t0.19399637552789303\n",
      "  (0, 13890)\t0.0356657511066179\n",
      "  (0, 20654)\t0.36481488902462184\n",
      "  (0, 20002)\t0.030850131162016833\n",
      "  :\t:\n",
      "  (0, 14618)\t0.08282586921176499\n",
      "  (0, 23842)\t0.14746669230112583\n",
      "  (0, 18313)\t0.12088131243744694\n",
      "  (0, 16044)\t0.16860893667520768\n",
      "  (0, 26664)\t0.11404342041278993\n",
      "  (0, 30544)\t0.1482254324625504\n",
      "  (0, 25559)\t0.15636823794206217\n",
      "  (0, 24295)\t0.16531643848743066\n",
      "  (0, 31500)\t0.1482254324625504\n",
      "  (0, 31091)\t0.17950325528888258\n",
      "  (0, 24338)\t0.10869593593894268\n",
      "  (0, 9196)\t0.026230656359225814\n",
      "  (0, 2138)\t0.19949845053719112\n",
      "  (0, 26001)\t0.13113442643767018\n",
      "  (0, 5776)\t0.17043622506949607\n",
      "  (0, 30391)\t0.08462810380917891\n",
      "  (0, 26192)\t0.23785450398398955\n",
      "  (0, 11130)\t0.10885150181545243\n",
      "  (0, 5455)\t0.15241465163984802\n",
      "  (0, 6812)\t0.14746669230112583\n",
      "  (0, 10322)\t0.0782309772717262\n",
      "  (0, 24701)\t0.07814098772061305\n",
      "  (0, 10043)\t0.08376688321654328\n",
      "  (0, 720)\t0.06727555851813509\n",
      "  (0, 575)\t0.05871624546972351\n"
     ]
    }
   ],
   "source": [
    "# converting the text data to feature vectors\n",
    "\n",
    "vectorizer = TfidfVectorizer()\n",
    "feature_vectors = vectorizer.fit_transform(combined_features)\n",
    "\n",
    "print(feature_vectors)"
   ]
  },
  {
   "cell_type": "markdown",
   "id": "040f7be1",
   "metadata": {},
   "source": [
    "COSINE SIMILARITY SCORE"
   ]
  },
  {
   "cell_type": "code",
   "execution_count": 25,
   "id": "add007f0",
   "metadata": {},
   "outputs": [],
   "source": [
    "# getting the similarity scores using Cosine similarity\n",
    "\n",
    "similarity = cosine_similarity(feature_vectors)"
   ]
  },
  {
   "cell_type": "code",
   "execution_count": 26,
   "id": "39b2d9b3",
   "metadata": {},
   "outputs": [
    {
     "name": "stdout",
     "output_type": "stream",
     "text": [
      "SIMILARITY\n",
      "[[1.         0.05462703 0.03144384 ... 0.02483116 0.02857211 0.00708768]\n",
      " [0.05462703 1.         0.04154242 ... 0.05403246 0.03712447 0.015927  ]\n",
      " [0.03144384 0.04154242 1.         ... 0.02312761 0.04297385 0.01267203]\n",
      " ...\n",
      " [0.02483116 0.05403246 0.02312761 ... 1.         0.03021007 0.0395016 ]\n",
      " [0.02857211 0.03712447 0.04297385 ... 0.03021007 1.         0.0290878 ]\n",
      " [0.00708768 0.015927   0.01267203 ... 0.0395016  0.0290878  1.        ]]\n",
      "\n",
      "SHAPE\n",
      "(4803, 4803)\n"
     ]
    }
   ],
   "source": [
    "print('SIMILARITY')\n",
    "print(similarity)\n",
    "print()\n",
    "print('SHAPE')\n",
    "print(similarity.shape)"
   ]
  },
  {
   "cell_type": "markdown",
   "id": "482e78d1",
   "metadata": {},
   "source": [
    "DATA VISUALIZATION - not working"
   ]
  },
  {
   "cell_type": "code",
   "execution_count": 29,
   "id": "8d27d6c3",
   "metadata": {},
   "outputs": [
    {
     "data": {
      "image/png": "[encoded data removed]",
      "text/plain": [
       "<Figure size 640x480 with 1 Axes>"
      ]
     },
     "metadata": {},
     "output_type": "display_data"
    }
   ],
   "source": [
    "# #\n",
    "# ypoints = np.array(feature_vectors)\n",
    "# ypoints = list(feature_vectors)\n",
    "\n",
    "# plt.plot(ypoints, marker = '*')\n",
    "plt.scatter(similarity[0], similarity[1])\n",
    "plt.show()"
   ]
  },
  {
   "cell_type": "markdown",
   "id": "4e8320fd",
   "metadata": {},
   "source": [
    "CUSTOM FUNCTIONS"
   ]
  },
  {
   "cell_type": "code",
   "execution_count": 33,
   "id": "c18d387a",
   "metadata": {},
   "outputs": [],
   "source": [
    "# getting the movie name from the user\n",
    "def getMovieName(name = 'iron man'):\n",
    "    return input('Enter your favourite movie name: ') if name == '' else name\n",
    "    \n",
    "# create a list with all the movie names fgiven in the dataset\n",
    "# list_of_all_titles\n",
    "def getMovieList(data):\n",
    "    return data['title'].tolist()\n",
    "\n",
    "# get similar movies\n",
    "def getSimilarMovies(movie_name, list_of_all_titles):\n",
    "    return difflib.get_close_matches(movie_name, list_of_all_titles)"
   ]
  },
  {
   "cell_type": "markdown",
   "id": "b3acb65a",
   "metadata": {},
   "source": [
    "..."
   ]
  },
  {
   "cell_type": "code",
   "execution_count": 34,
   "id": "9c4de8e9",
   "metadata": {},
   "outputs": [],
   "source": [
    "movie_list = getMovieList(movies_data)"
   ]
  },
  {
   "cell_type": "code",
   "execution_count": 36,
   "id": "53c68b38",
   "metadata": {},
   "outputs": [
    {
     "name": "stdout",
     "output_type": "stream",
     "text": [
      "['Iron Man', 'Iron Man 3', 'Iron Man 2']\n"
     ]
    }
   ],
   "source": [
    "#\n",
    "\n",
    "movie_name = getMovieName()\n",
    "\n",
    "similar_movies = getSimilarMovies(movie_name, movie_list)\n",
    "print(similar_movies)"
   ]
  },
  {
   "cell_type": "code",
   "execution_count": 37,
   "id": "6e548b10",
   "metadata": {},
   "outputs": [
    {
     "name": "stdout",
     "output_type": "stream",
     "text": [
      "68\n"
     ]
    }
   ],
   "source": [
    "#\n",
    "\n",
    "find_movie_index = movies_data[movies_data.title == similar_movies[0]]['index'].values[0]\n",
    "print(find_movie_index)"
   ]
  },
  {
   "cell_type": "code",
   "execution_count": 40,
   "id": "2eee9181",
   "metadata": {},
   "outputs": [
    {
     "data": {
      "text/plain": [
       "4803"
      ]
     },
     "execution_count": 40,
     "metadata": {},
     "output_type": "execute_result"
    }
   ],
   "source": [
    "# find similar movies to movies with index value\n",
    "\n",
    "similarity_score = list(enumerate(similarity[find_movie_index]))\n",
    "len(similarity_score)\n",
    "# print(similarity_score)"
   ]
  },
  {
   "cell_type": "code",
   "execution_count": 44,
   "id": "b8808308",
   "metadata": {},
   "outputs": [],
   "source": [
    "# sorting movies by {similarity_score} in order of highest to lowest similarity\n",
    "\n",
    "sorted_similar_movies = sorted(similarity_score, key = lambda x:x[1], reverse=True)\n",
    "# print(sorted_similar_movies)"
   ]
  },
  {
   "cell_type": "code",
   "execution_count": 45,
   "id": "8d38df64",
   "metadata": {},
   "outputs": [
    {
     "name": "stdout",
     "output_type": "stream",
     "text": [
      "Movies Suggestions Similar to: Iron Man\n",
      "\n",
      "Iron Man 2\n",
      "Iron Man 3\n",
      "Avengers: Age of Ultron\n",
      "Captain America: Civil War\n",
      "The Avengers\n",
      "X-Men\n",
      "Ant-Man\n",
      "X-Men: Apocalypse\n",
      "Made\n",
      "Guardians of the Galaxy\n"
     ]
    }
   ],
   "source": [
    "# print 10 movies similar to the selected movie, based on the index values\n",
    "# skip first movie, as it is the same as {movie_name ~ similar_movies[0]}\n",
    "\n",
    "print('Movies Suggestions Similar to: {}\\n'.format(similar_movies[0]))\n",
    "\n",
    "max_similar = 10\n",
    "for movie in sorted_similar_movies[1:max_similar + 1]:\n",
    "    print(movies_data[movies_data.index == movie[0]]['title'].values[0])"
   ]
  },
  {
   "cell_type": "code",
   "execution_count": null,
   "id": "22d29435",
   "metadata": {},
   "outputs": [],
   "source": []
  },
  {
   "cell_type": "code",
   "execution_count": null,
   "id": "d5265745",
   "metadata": {},
   "outputs": [],
   "source": []
  }
 ],
 "metadata": {
  "kernelspec": {
   "display_name": "Python 3 (ipykernel)",
   "language": "python",
   "name": "python3"
  },
  "language_info": {
   "codemirror_mode": {
    "name": "ipython",
    "version": 3
   },
   "file_extension": ".py",
   "mimetype": "text/x-python",
   "name": "python",
   "nbconvert_exporter": "python",
   "pygments_lexer": "ipython3",
   "version": "3.11.5"
  }
 },
 "nbformat": 4,
 "nbformat_minor": 5
}
